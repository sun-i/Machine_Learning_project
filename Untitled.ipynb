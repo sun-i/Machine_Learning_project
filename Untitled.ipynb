{
 "cells": [
  {
   "cell_type": "code",
   "execution_count": 1,
   "id": "892519ae",
   "metadata": {
    "ExecuteTime": {
     "end_time": "2022-12-30T06:33:43.424474Z",
     "start_time": "2022-12-30T06:33:43.410475Z"
    }
   },
   "outputs": [
    {
     "data": {
      "text/plain": [
       "10.0"
      ]
     },
     "execution_count": 1,
     "metadata": {},
     "output_type": "execute_result"
    }
   ],
   "source": [
    "2*(3+6-4/2)-8/2"
   ]
  },
  {
   "cell_type": "code",
   "execution_count": null,
   "id": "2ba0c07c",
   "metadata": {},
   "outputs": [],
   "source": [
    "def __init__(self, name, species, owner):\n",
    "    self._name = name\n",
    "    self._species = species\n",
    "    self._owner = owner"
   ]
  },
  {
   "cell_type": "code",
   "execution_count": 1,
   "id": "4fb4dc06",
   "metadata": {
    "ExecuteTime": {
     "end_time": "2022-12-30T06:55:37.166924Z",
     "start_time": "2022-12-30T06:55:37.162925Z"
    }
   },
   "outputs": [],
   "source": [
    "fruits = ['apple', 'grape', 'banana', 'mango', 'plum']\n",
    "fruits.sort()"
   ]
  },
  {
   "cell_type": "code",
   "execution_count": 4,
   "id": "8decb093",
   "metadata": {
    "ExecuteTime": {
     "end_time": "2022-12-30T06:56:21.594106Z",
     "start_time": "2022-12-30T06:56:21.577108Z"
    }
   },
   "outputs": [
    {
     "name": "stdout",
     "output_type": "stream",
     "text": [
      "['apple', 'banana', 'mango', 'plum']\n"
     ]
    }
   ],
   "source": [
    "print(fruits)"
   ]
  },
  {
   "cell_type": "code",
   "execution_count": 3,
   "id": "084a7f6c",
   "metadata": {
    "ExecuteTime": {
     "end_time": "2022-12-30T06:56:17.356215Z",
     "start_time": "2022-12-30T06:56:17.338208Z"
    }
   },
   "outputs": [
    {
     "data": {
      "text/plain": [
       "'grape'"
      ]
     },
     "execution_count": 3,
     "metadata": {},
     "output_type": "execute_result"
    }
   ],
   "source": [
    "fruits.pop(2)"
   ]
  },
  {
   "cell_type": "code",
   "execution_count": 5,
   "id": "5e56c06b",
   "metadata": {
    "ExecuteTime": {
     "end_time": "2022-12-30T06:58:19.567631Z",
     "start_time": "2022-12-30T06:58:19.556636Z"
    }
   },
   "outputs": [
    {
     "name": "stdout",
     "output_type": "stream",
     "text": [
      "aa\n"
     ]
    }
   ],
   "source": [
    "l = {'a':'aa'}\n",
    "print(l.pop('a', None))"
   ]
  },
  {
   "cell_type": "code",
   "execution_count": 6,
   "id": "80fc4c73",
   "metadata": {
    "ExecuteTime": {
     "end_time": "2022-12-30T06:59:51.729735Z",
     "start_time": "2022-12-30T06:59:51.714226Z"
    }
   },
   "outputs": [],
   "source": [
    "l = {'Brand':'Lenovo', 'Model':'S730', 'Series':'Yoga', 'Year':2019, 'Screen(in)': 13.3}"
   ]
  },
  {
   "cell_type": "code",
   "execution_count": 7,
   "id": "28986b42",
   "metadata": {
    "ExecuteTime": {
     "end_time": "2022-12-30T07:00:12.542699Z",
     "start_time": "2022-12-30T07:00:12.527701Z"
    }
   },
   "outputs": [
    {
     "name": "stdout",
     "output_type": "stream",
     "text": [
      "None\n"
     ]
    }
   ],
   "source": [
    "print(l.get('Colour', None))"
   ]
  },
  {
   "cell_type": "code",
   "execution_count": 8,
   "id": "fa6e3c63",
   "metadata": {
    "ExecuteTime": {
     "end_time": "2022-12-30T07:00:34.496459Z",
     "start_time": "2022-12-30T07:00:34.476428Z"
    }
   },
   "outputs": [
    {
     "name": "stdout",
     "output_type": "stream",
     "text": [
      "16GB\n"
     ]
    }
   ],
   "source": [
    "l['RAM'] = '16GB'\n",
    "print(l['RAM'])"
   ]
  },
  {
   "cell_type": "code",
   "execution_count": 9,
   "id": "cd8713d1",
   "metadata": {
    "ExecuteTime": {
     "end_time": "2022-12-30T07:00:48.224777Z",
     "start_time": "2022-12-30T07:00:48.211808Z"
    }
   },
   "outputs": [
    {
     "data": {
      "text/plain": [
       "'S730'"
      ]
     },
     "execution_count": 9,
     "metadata": {},
     "output_type": "execute_result"
    }
   ],
   "source": [
    "l.pop('Model')"
   ]
  },
  {
   "cell_type": "code",
   "execution_count": 10,
   "id": "46733627",
   "metadata": {
    "ExecuteTime": {
     "end_time": "2022-12-30T07:01:00.387913Z",
     "start_time": "2022-12-30T07:01:00.369916Z"
    }
   },
   "outputs": [
    {
     "name": "stdout",
     "output_type": "stream",
     "text": [
      "{'Brand': 'Lenovo', 'Series': 'Yoga', 'Year': 2019, 'Screen(in)': 13.3, 'RAM': '16GB'}\n"
     ]
    }
   ],
   "source": [
    "print(l)"
   ]
  },
  {
   "cell_type": "code",
   "execution_count": 11,
   "id": "14c0e45d",
   "metadata": {
    "ExecuteTime": {
     "end_time": "2022-12-30T07:02:17.287540Z",
     "start_time": "2022-12-30T07:02:17.275540Z"
    }
   },
   "outputs": [
    {
     "name": "stdout",
     "output_type": "stream",
     "text": [
      "3\n",
      "7\n",
      "12\n",
      "18\n"
     ]
    }
   ],
   "source": [
    "total = 0\n",
    "for i in range(3, 7):\n",
    "    total = total+i\n",
    "    print(total)"
   ]
  },
  {
   "cell_type": "code",
   "execution_count": 12,
   "id": "6756b27c",
   "metadata": {
    "ExecuteTime": {
     "end_time": "2022-12-30T07:10:31.050038Z",
     "start_time": "2022-12-30T07:10:31.037039Z"
    }
   },
   "outputs": [
    {
     "ename": "SyntaxError",
     "evalue": "invalid syntax (2769209034.py, line 1)",
     "output_type": "error",
     "traceback": [
      "\u001b[1;36m  Cell \u001b[1;32mIn [12], line 1\u001b[1;36m\u001b[0m\n\u001b[1;33m    form turtle import *\u001b[0m\n\u001b[1;37m         ^\u001b[0m\n\u001b[1;31mSyntaxError\u001b[0m\u001b[1;31m:\u001b[0m invalid syntax\n"
     ]
    }
   ],
   "source": [
    "form turtle import *\n",
    "t = Turtle"
   ]
  },
  {
   "cell_type": "code",
   "execution_count": 13,
   "id": "3a5cc9da",
   "metadata": {
    "ExecuteTime": {
     "end_time": "2022-12-30T07:10:49.117913Z",
     "start_time": "2022-12-30T07:10:45.417847Z"
    }
   },
   "outputs": [
    {
     "name": "stdout",
     "output_type": "stream",
     "text": [
      "Defaulting to user installation because normal site-packages is not writeable\n",
      "Collecting turtle\n",
      "  Downloading turtle-0.0.2.tar.gz (11 kB)\n",
      "  Preparing metadata (setup.py): started\n",
      "  Preparing metadata (setup.py): finished with status 'error'\n"
     ]
    },
    {
     "name": "stderr",
     "output_type": "stream",
     "text": [
      "  error: subprocess-exited-with-error\n",
      "  \n",
      "  python setup.py egg_info did not run successfully.\n",
      "  exit code: 1\n",
      "  \n",
      "  [7 lines of output]\n",
      "  Traceback (most recent call last):\n",
      "    File \"<string>\", line 2, in <module>\n",
      "    File \"<pip-setuptools-caller>\", line 34, in <module>\n",
      "    File \"C:\\Users\\can\\AppData\\Local\\Temp\\pip-install-d6oi7a4v\\turtle_dbf00634fd9c4546be556dc54283181e\\setup.py\", line 40\n",
      "      except ValueError, ve:\n",
      "                       ^\n",
      "  SyntaxError: invalid syntax\n",
      "  [end of output]\n",
      "  \n",
      "  note: This error originates from a subprocess, and is likely not a problem with pip.\n",
      "error: metadata-generation-failed\n",
      "\n",
      "Encountered error while generating package metadata.\n",
      "\n",
      "See above for output.\n",
      "\n",
      "note: This is an issue with the package mentioned above, not pip.\n",
      "hint: See above for details.\n"
     ]
    }
   ],
   "source": [
    "!pip install turtle\n"
   ]
  },
  {
   "cell_type": "code",
   "execution_count": null,
   "id": "7bce28fd",
   "metadata": {},
   "outputs": [],
   "source": []
  }
 ],
 "metadata": {
  "kernelspec": {
   "display_name": "Python 3 (ipykernel)",
   "language": "python",
   "name": "python3"
  },
  "language_info": {
   "codemirror_mode": {
    "name": "ipython",
    "version": 3
   },
   "file_extension": ".py",
   "mimetype": "text/x-python",
   "name": "python",
   "nbconvert_exporter": "python",
   "pygments_lexer": "ipython3",
   "version": "3.9.13"
  },
  "toc": {
   "base_numbering": 1,
   "nav_menu": {},
   "number_sections": true,
   "sideBar": true,
   "skip_h1_title": false,
   "title_cell": "Table of Contents",
   "title_sidebar": "Contents",
   "toc_cell": false,
   "toc_position": {},
   "toc_section_display": true,
   "toc_window_display": false
  }
 },
 "nbformat": 4,
 "nbformat_minor": 5
}
